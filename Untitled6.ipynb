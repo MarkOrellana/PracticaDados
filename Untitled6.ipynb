{
 "cells": [
  {
   "cell_type": "code",
   "execution_count": 1,
   "metadata": {},
   "outputs": [],
   "source": [
    "import random \n",
    "import matplotlib.pyplot as plt  "
   ]
  },
  {
   "cell_type": "code",
   "execution_count": 32,
   "metadata": {},
   "outputs": [],
   "source": [
    "def getsum(veces):\n",
    "    \n",
    "    contador=0\n",
    "    contador1=0\n",
    "    contador2=0\n",
    "    contador3=0\n",
    "    contador4=0\n",
    "    contador5=0\n",
    "    contador6=0\n",
    "    contador7=0\n",
    "    contador8=0\n",
    "    contador9=0\n",
    "    contador10=0\n",
    "    \n",
    "    for n in range(veces):\n",
    "        \n",
    "        #Generar numeros aleatorios\n",
    "        n1= random.randint(1,6)\n",
    "        n2= random.randint(1,6)\n",
    "        sum= n1+n2\n",
    "        \n",
    "        if (sum==2):\n",
    "            contador+= 1\n",
    "        if (sum==3):\n",
    "            contador1+= 1\n",
    "        if (sum==4):\n",
    "            contador2+= 1\n",
    "        if (sum==5):\n",
    "            contador3+= 1\n",
    "        if (sum==6):\n",
    "            contador4+= 1\n",
    "        if (sum==7):\n",
    "            contador5+= 1\n",
    "        if (sum==8):\n",
    "            contador6+= 1\n",
    "        if (sum==9):\n",
    "            contador7+= 1\n",
    "        if (sum==10):\n",
    "            contador8+= 1\n",
    "        if (sum==11):\n",
    "            contador9+= 1\n",
    "        if (sum==12):\n",
    "            contador10+= 1\n",
    "    \n",
    "    print ('sum = 2   ', contador)\n",
    "    print ('sum = 3   ', contador1)\n",
    "    print ('sum = 4   ', contador2)\n",
    "    print ('sum = 5   ', contador3)\n",
    "    print ('sum = 6   ', contador4)\n",
    "    print ('sum = 7   ', contador5)\n",
    "    print ('sum = 8   ', contador6)\n",
    "    print ('sum = 9   ', contador7)\n",
    "    print ('sum = 10  ', contador8)\n",
    "    print ('sum = 11  ', contador9)\n",
    "    print ('sum = 12  ', contador10)\n",
    "    \n",
    "    ## Valores x\n",
    "    ejx = ['2', '3', '4','5', '6', '7','8', '9', '10','11', '12']\n",
    " \n",
    "    ## Valores y\n",
    "    ejy = [contador,contador1,contador2,contador3,contador4,contador5,contador6,contador7,contador8,contador9,contador10]\n",
    "\n",
    "    ## Creamos Gráfica\n",
    "    plt.bar(ejx, ejy,color = 'g')\n",
    "\n",
    "    ## Legenda en el eje y\n",
    "    plt.ylabel('Probabilidad')\n",
    "\n",
    "    ## Leyenda en el eje x\n",
    "    plt.xlabel('# Iteraciones')\n",
    "\n",
    "    ## Título\n",
    "    plt.title('Practica Dados')\n",
    "    plt.show()\n",
    " "
   ]
  },
  {
   "cell_type": "code",
   "execution_count": 33,
   "metadata": {},
   "outputs": [
    {
     "name": "stdout",
     "output_type": "stream",
     "text": [
      "sum = 2    2\n",
      "sum = 3    8\n",
      "sum = 4    6\n",
      "sum = 5    13\n",
      "sum = 6    14\n",
      "sum = 7    22\n",
      "sum = 8    9\n",
      "sum = 9    10\n",
      "sum = 10   8\n",
      "sum = 11   7\n",
      "sum = 12   1\n"
     ]
    },
    {
     "data": {
      "image/png": "[encoded data removed]",
      "text/plain": [
       "<Figure size 432x288 with 1 Axes>"
      ]
     },
     "metadata": {
      "needs_background": "light"
     },
     "output_type": "display_data"
    }
   ],
   "source": [
    "r1= getsum(100)"
   ]
  },
  {
   "cell_type": "code",
   "execution_count": 34,
   "metadata": {},
   "outputs": [
    {
     "name": "stdout",
     "output_type": "stream",
     "text": [
      "sum = 2    34\n",
      "sum = 3    42\n",
      "sum = 4    79\n",
      "sum = 5    109\n",
      "sum = 6    136\n",
      "sum = 7    171\n",
      "sum = 8    158\n",
      "sum = 9    99\n",
      "sum = 10   91\n",
      "sum = 11   53\n",
      "sum = 12   28\n"
     ]
    },
    {
     "data": {
      "image/png": "[encoded data removed]",
      "text/plain": [
       "<Figure size 432x288 with 1 Axes>"
      ]
     },
     "metadata": {
      "needs_background": "light"
     },
     "output_type": "display_data"
    }
   ],
   "source": [
    "r1= getsum(1000)"
   ]
  },
  {
   "cell_type": "code",
   "execution_count": 35,
   "metadata": {},
   "outputs": [
    {
     "name": "stdout",
     "output_type": "stream",
     "text": [
      "sum = 2    253\n",
      "sum = 3    569\n",
      "sum = 4    848\n",
      "sum = 5    1138\n",
      "sum = 6    1467\n",
      "sum = 7    1587\n",
      "sum = 8    1386\n",
      "sum = 9    1088\n",
      "sum = 10   830\n",
      "sum = 11   545\n",
      "sum = 12   289\n"
     ]
    },
    {
     "data": {
      "image/png": "[encoded data removed]",
      "text/plain": [
       "<Figure size 432x288 with 1 Axes>"
      ]
     },
     "metadata": {
      "needs_background": "light"
     },
     "output_type": "display_data"
    }
   ],
   "source": [
    "r1= getsum(10000)"
   ]
  },
  {
   "cell_type": "code",
   "execution_count": null,
   "metadata": {},
   "outputs": [],
   "source": []
  }
 ],
 "metadata": {
  "kernelspec": {
   "display_name": "Python 3",
   "language": "python",
   "name": "python3"
  },
  "language_info": {
   "codemirror_mode": {
    "name": "ipython",
    "version": 3
   },
   "file_extension": ".py",
   "mimetype": "text/x-python",
   "name": "python",
   "nbconvert_exporter": "python",
   "pygments_lexer": "ipython3",
   "version": "3.7.3"
  }
 },
 "nbformat": 4,
 "nbformat_minor": 2
}
